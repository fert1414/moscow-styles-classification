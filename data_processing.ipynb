{
 "cells": [
  {
   "cell_type": "markdown",
   "id": "ff6f2b52",
   "metadata": {},
   "source": [
    "### Подготовка\n",
    "\n",
    "1. Перевод всех изображений в формат jpg\n",
    "2. Создание тренировочной и валидационной выборок"
   ]
  },
  {
   "cell_type": "code",
   "execution_count": 464,
   "id": "c9bd7de9",
   "metadata": {},
   "outputs": [],
   "source": [
    "import os\n",
    "import shutil\n",
    "\n",
    "from tqdm import tqdm\n",
    "from PIL import Image"
   ]
  },
  {
   "cell_type": "code",
   "execution_count": null,
   "id": "0ea6d1f4",
   "metadata": {},
   "outputs": [],
   "source": [
    "def dir_to_jpg(dir_path, dir_to_save):\n",
    "\n",
    "    for root, dirs, files in os.walk(dir_path, topdown = True):\n",
    "        for file in files:\n",
    "\n",
    "            # Проверка является файл папкой\n",
    "            full_file_path = os.path.join(root, file)\n",
    "            if os.path.isdir(full_file_path):\n",
    "                continue\n",
    "\n",
    "            # Создание папки класса в папке с обработанными данными\n",
    "            class_name = root.split('\\\\')[-1]\n",
    "            class_path = os.path.join(dir_to_save, class_name)\n",
    "            if not os.path.exists(class_path):\n",
    "                os.mkdir(class_path)\n",
    "\n",
    "            # Формирование наименования файла для сохранения\n",
    "            file_to_jpg = file.split('.')[0] + '.jpg'\n",
    "            full_file_to_jpg_path = os.path.join(class_path, file_to_jpg)\n",
    "\n",
    "            # Сохранение файла с измененным форматом\n",
    "            image = Image.open(full_file_path)\n",
    "            image_to_jpg = image.convert('RGB')\n",
    "            image_to_jpg.save(full_file_to_jpg_path)\n",
    "\n",
    "dir_all_files = './data/raw_data/all_photo'\n",
    "dir_to_save_processed_files = './data/processed_data/all_photo'\n",
    "dir_to_jpg(dir_all_files, dir_to_save_processed_files)"
   ]
  },
  {
   "cell_type": "code",
   "execution_count": null,
   "id": "4511e793",
   "metadata": {},
   "outputs": [],
   "source": [
    "def create_train_val(dir_path, train_dir, val_dir):\n",
    "\n",
    "    for root, dirs, files in os.walk(dir_all_files, topdown = True):\n",
    "        for dir in dirs:\n",
    "            full_dir_path = os.path.join(root, dir)\n",
    "\n",
    "            # Создание папок классов в папках тренировочной и валидационной выборок\n",
    "            class_name = full_dir_path.split('\\\\')[-1]\n",
    "            train_class_path = os.path.join(train_dir, class_name)\n",
    "            val_class_path = os.path.join(val_dir, class_name)\n",
    "            if not os.path.exists(train_class_path):\n",
    "                os.mkdir(train_class_path)\n",
    "            if not os.path.exists(val_class_path):\n",
    "                os.mkdir(val_class_path)\n",
    "\n",
    "            # Каждый пятый файл сохраняется в валидационную выборку\n",
    "            for i, file in enumerate(tqdm(os.listdir(full_dir_path))):\n",
    "                if i % 5 != 0:\n",
    "                    shutil.copy(os.path.join(full_dir_path, file), train_class_path)\n",
    "                else:\n",
    "                    shutil.copy(os.path.join(full_dir_path, file), val_class_path)\n",
    "\n",
    "dir_all_processed_files = './data/processed_data/all_photo'\n",
    "dir_to_save_train = './data/processed_data/train'\n",
    "dir_to_save_val = './data/processed_data/val'\n",
    "create_train_val(dir_all_processed_files, dir_to_save_train, dir_to_save_val)"
   ]
  }
 ],
 "metadata": {
  "kernelspec": {
   "display_name": "venv",
   "language": "python",
   "name": "python3"
  },
  "language_info": {
   "codemirror_mode": {
    "name": "ipython",
    "version": 3
   },
   "file_extension": ".py",
   "mimetype": "text/x-python",
   "name": "python",
   "nbconvert_exporter": "python",
   "pygments_lexer": "ipython3",
   "version": "3.12.2"
  }
 },
 "nbformat": 4,
 "nbformat_minor": 5
}
